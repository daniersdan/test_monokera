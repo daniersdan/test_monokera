{
 "cells": [
  {
   "cell_type": "code",
   "id": "initial_id",
   "metadata": {
    "collapsed": true,
    "ExecuteTime": {
     "end_time": "2024-12-01T22:15:47.273662Z",
     "start_time": "2024-12-01T22:15:47.270773Z"
    }
   },
   "source": [
    "import src.policys.services.constants as const\n",
    "import pandas as pd\n",
    "import uuid\n",
    "from datetime import datetime, timezone\n",
    "import os"
   ],
   "outputs": [],
   "execution_count": 3
  },
  {
   "metadata": {
    "ExecuteTime": {
     "end_time": "2024-12-01T22:15:48.816146Z",
     "start_time": "2024-12-01T22:15:48.805774Z"
    }
   },
   "cell_type": "code",
   "source": [
    "base_dir = os.path.dirname(os.path.abspath(__file__))\n",
    "path_csv = os.path.join(base_dir, 'template', 'MOCK_DATA.csv')\n",
    "df = pd.read_csv(path_csv)"
   ],
   "id": "3021bd8ec1e24412",
   "outputs": [
    {
     "ename": "NameError",
     "evalue": "name '__file__' is not defined",
     "output_type": "error",
     "traceback": [
      "\u001B[0;31m---------------------------------------------------------------------------\u001B[0m",
      "\u001B[0;31mNameError\u001B[0m                                 Traceback (most recent call last)",
      "Cell \u001B[0;32mIn[4], line 1\u001B[0m\n\u001B[0;32m----> 1\u001B[0m base_dir \u001B[38;5;241m=\u001B[39m os\u001B[38;5;241m.\u001B[39mpath\u001B[38;5;241m.\u001B[39mdirname(os\u001B[38;5;241m.\u001B[39mpath\u001B[38;5;241m.\u001B[39mabspath(\u001B[38;5;18;43m__file__\u001B[39;49m))\n\u001B[1;32m      2\u001B[0m path_csv \u001B[38;5;241m=\u001B[39m os\u001B[38;5;241m.\u001B[39mpath\u001B[38;5;241m.\u001B[39mjoin(base_dir, \u001B[38;5;124m'\u001B[39m\u001B[38;5;124mtemplate\u001B[39m\u001B[38;5;124m'\u001B[39m, \u001B[38;5;124m'\u001B[39m\u001B[38;5;124mMOCK_DATA.csv\u001B[39m\u001B[38;5;124m'\u001B[39m)\n\u001B[1;32m      3\u001B[0m df \u001B[38;5;241m=\u001B[39m pd\u001B[38;5;241m.\u001B[39mread_csv(path_csv)\n",
      "\u001B[0;31mNameError\u001B[0m: name '__file__' is not defined"
     ]
    }
   ],
   "execution_count": 4
  },
  {
   "metadata": {},
   "cell_type": "code",
   "source": [
    "df_insured = df[const.INSURED_COLUMNS]\n",
    "df_insured = df_insured.drop_duplicates(subset=const.INSURED_COLUMNS, keep='first')\n",
    "df_insured[\"id\"] = df_insured.apply(\n",
    "    lambda _: uuid.uuid4(), axis=1\n",
    ")\n",
    "df_insured[\"created_at\"] = datetime.now(timezone.utc).strftime(\"%Y-%m-%d %H:%M:%S\")\n",
    "df_insured[\"updated_at\"] = datetime.now(timezone.utc).strftime(\"%Y-%m-%d %H:%M:%S\")"
   ],
   "id": "84c589d2fae02b7d",
   "outputs": [],
   "execution_count": null
  },
  {
   "metadata": {},
   "cell_type": "code",
   "source": "df_insured",
   "id": "d2d2dfe7b1c5d7d2",
   "outputs": [],
   "execution_count": null
  },
  {
   "metadata": {},
   "cell_type": "code",
   "source": "",
   "id": "ac98ef8a32ab667a",
   "outputs": [],
   "execution_count": null
  }
 ],
 "metadata": {
  "kernelspec": {
   "display_name": "Python 3",
   "language": "python",
   "name": "python3"
  },
  "language_info": {
   "codemirror_mode": {
    "name": "ipython",
    "version": 2
   },
   "file_extension": ".py",
   "mimetype": "text/x-python",
   "name": "python",
   "nbconvert_exporter": "python",
   "pygments_lexer": "ipython2",
   "version": "2.7.6"
  }
 },
 "nbformat": 4,
 "nbformat_minor": 5
}
